{
  "nbformat": 4,
  "nbformat_minor": 0,
  "metadata": {
    "colab": {
      "provenance": []
    },
    "kernelspec": {
      "name": "python3",
      "display_name": "Python 3"
    },
    "language_info": {
      "name": "python"
    }
  },
  "cells": [
    {
      "cell_type": "code",
      "execution_count": 1,
      "metadata": {
        "colab": {
          "base_uri": "https://localhost:8080/"
        },
        "id": "HtmNR9TN1nqv",
        "outputId": "f2684a8e-1493-4cb3-b3f6-4222c7ca3813"
      },
      "outputs": [
        {
          "output_type": "stream",
          "name": "stdout",
          "text": [
            "10\n",
            "15\n"
          ]
        }
      ],
      "source": [
        "# bu benim ilk comment im\n",
        "# degisken - variable\n",
        "# integer(tamsayi) degisken- variable\n",
        "tamsayi_degiskeni = 10 # 10 tamsayisi icin bir degisken tanimladim, bu degiskenin ismi tamsayi_degiskeni\n",
        "tamsayi_degiskeni2 = 15\n",
        "print(tamsayi_degiskeni)\n",
        "print(tamsayi_degiskeni2)"
      ]
    },
    {
      "cell_type": "markdown",
      "source": [
        "**Kesirli Sayi**\n",
        "\n"
      ],
      "metadata": {
        "id": "UgIr5zOJ4MO5"
      }
    },
    {
      "cell_type": "code",
      "source": [
        "# kesirli sayi - float\n",
        "kesirlisayi_degisken = 10.5\n",
        "print(kesirlisayi_degisken)"
      ],
      "metadata": {
        "colab": {
          "base_uri": "https://localhost:8080/"
        },
        "id": "QPdI2Mxy4Gfe",
        "outputId": "a3ecc3b8-1a6c-4011-f9d7-fe794ac59c7f"
      },
      "execution_count": 2,
      "outputs": [
        {
          "output_type": "stream",
          "name": "stdout",
          "text": [
            "10.5\n"
          ]
        }
      ]
    },
    {
      "cell_type": "markdown",
      "source": [
        "4 işlem özelliği"
      ],
      "metadata": {
        "id": "uIZxrCOA41yE"
      }
    },
    {
      "cell_type": "code",
      "source": [
        "toplam = tamsayi_degiskeni + tamsayi_degiskeni2\n",
        "carpma = tamsayi_degiskeni * tamsayi_degiskeni2\n",
        "cikarma = tamsayi_degiskeni - tamsayi_degiskeni2\n",
        "bolme = tamsayi_degiskeni / tamsayi_degiskeni2\n",
        "print(toplam)\n",
        "print(carpma)\n",
        "print(cikarma)\n",
        "print(bolme)"
      ],
      "metadata": {
        "colab": {
          "base_uri": "https://localhost:8080/"
        },
        "id": "s2u8pNyM47--",
        "outputId": "c6fe7231-967e-47cd-ed89-d21784393415"
      },
      "execution_count": 3,
      "outputs": [
        {
          "output_type": "stream",
          "name": "stdout",
          "text": [
            "25\n",
            "150\n",
            "-5\n",
            "0.6666666666666666\n"
          ]
        }
      ]
    },
    {
      "cell_type": "code",
      "source": [
        "metin = \"hello world\" # string - metin\n",
        "print(metin)"
      ],
      "metadata": {
        "colab": {
          "base_uri": "https://localhost:8080/"
        },
        "id": "NehQ0uZt5Zxz",
        "outputId": "5ebd4289-d7d6-4066-ed3c-84e9213edf50"
      },
      "execution_count": 4,
      "outputs": [
        {
          "output_type": "stream",
          "name": "stdout",
          "text": [
            "hello world\n"
          ]
        }
      ]
    },
    {
      "cell_type": "code",
      "source": [
        "type(metin)"
      ],
      "metadata": {
        "colab": {
          "base_uri": "https://localhost:8080/"
        },
        "id": "WXSyIzeO506Q",
        "outputId": "ff439aa3-5dd0-4da9-d053-4e05ed48bcd3"
      },
      "execution_count": 5,
      "outputs": [
        {
          "output_type": "execute_result",
          "data": {
            "text/plain": [
              "str"
            ]
          },
          "metadata": {},
          "execution_count": 5
        }
      ]
    },
    {
      "cell_type": "code",
      "source": [
        "metin1 = \"merhaba\"\n",
        "bosluk = \" \"\n",
        "metin2 = \"dunya\"\n",
        "metin1 + bosluk + metin2"
      ],
      "metadata": {
        "colab": {
          "base_uri": "https://localhost:8080/",
          "height": 35
        },
        "id": "EFV98CHN59eq",
        "outputId": "b944836c-4ee4-4501-f9a2-fed2ad0cd384"
      },
      "execution_count": 6,
      "outputs": [
        {
          "output_type": "execute_result",
          "data": {
            "text/plain": [
              "'merhaba dunya'"
            ],
            "application/vnd.google.colaboratory.intrinsic+json": {
              "type": "string"
            }
          },
          "metadata": {},
          "execution_count": 6
        }
      ]
    },
    {
      "cell_type": "code",
      "source": [
        "# f string\n",
        "# elma: 10 tl\n",
        "# armut: 20 tl\n",
        "elma_degisken = 10\n",
        "armut_degisken = 20\n",
        "print(f\"elma: {elma_degisken} tl, armut: {armut_degisken} tl\")\n",
        "print(\"elma: {} tl, armut: {} tl\".format(elma_degisken, armut_degisken))\n",
        "# elma: {elma_degisken} tl, armut: {armut_degisken} tl\n",
        "# elma: 10 tl, armut: 20 tl"
      ],
      "metadata": {
        "colab": {
          "base_uri": "https://localhost:8080/"
        },
        "id": "3Fh23nGp6T7w",
        "outputId": "04d62e6f-6834-4378-f1d0-a060c73c81dc"
      },
      "execution_count": 7,
      "outputs": [
        {
          "output_type": "stream",
          "name": "stdout",
          "text": [
            "elma: 10 tl, armut: 20 tl\n",
            "elma: 10 tl, armut: 20 tl\n"
          ]
        }
      ]
    },
    {
      "cell_type": "markdown",
      "source": [
        "Python Syntax"
      ],
      "metadata": {
        "id": "VM2UJ1Sp74cn"
      }
    },
    {
      "cell_type": "code",
      "source": [
        "temel = 6\n",
        "TEMEL = 7\n",
        "print(temel)\n",
        "print(TEMEL)"
      ],
      "metadata": {
        "colab": {
          "base_uri": "https://localhost:8080/"
        },
        "id": "hVPEpZkZ8iYa",
        "outputId": "0ce16a97-f0a0-49c8-e2da-0fffc9ae45fd"
      },
      "execution_count": 8,
      "outputs": [
        {
          "output_type": "stream",
          "name": "stdout",
          "text": [
            "6\n",
            "7\n"
          ]
        }
      ]
    },
    {
      "cell_type": "code",
      "source": [
        "# COMMENT\n",
        "\"\"\"\n",
        " istedigimiz her seyi yazariz kimsade bize karisamaz\n",
        "\"\"\""
      ],
      "metadata": {
        "colab": {
          "base_uri": "https://localhost:8080/",
          "height": 35
        },
        "id": "i0jwLc9G8vE3",
        "outputId": "43bd7363-e080-44f8-9400-a0c6399d77a1"
      },
      "execution_count": 9,
      "outputs": [
        {
          "output_type": "execute_result",
          "data": {
            "text/plain": [
              "'\\n istedigimiz her seyi yazariz kimsade bize karisamaz\\n'"
            ],
            "application/vnd.google.colaboratory.intrinsic+json": {
              "type": "string"
            }
          },
          "metadata": {},
          "execution_count": 9
        }
      ]
    },
    {
      "cell_type": "code",
      "source": [
        "print(5) # print = build-in function"
      ],
      "metadata": {
        "colab": {
          "base_uri": "https://localhost:8080/"
        },
        "id": "mqOFjRDG9DjX",
        "outputId": "86794d1e-5850-4f52-a816-d7f5646cec27"
      },
      "execution_count": 10,
      "outputs": [
        {
          "output_type": "stream",
          "name": "stdout",
          "text": [
            "5\n"
          ]
        }
      ]
    },
    {
      "cell_type": "code",
      "source": [
        "# print = 10"
      ],
      "metadata": {
        "id": "eplTJJWZ9IHq"
      },
      "execution_count": 11,
      "outputs": []
    },
    {
      "cell_type": "code",
      "source": [
        "print(5)"
      ],
      "metadata": {
        "colab": {
          "base_uri": "https://localhost:8080/"
        },
        "id": "2YBLa5lD9N1J",
        "outputId": "a459eae9-21b4-4e7d-9a71-5f17b9583e00"
      },
      "execution_count": 12,
      "outputs": [
        {
          "output_type": "stream",
          "name": "stdout",
          "text": [
            "5\n"
          ]
        }
      ]
    },
    {
      "cell_type": "markdown",
      "source": [
        "**Fonksiyonlar**"
      ],
      "metadata": {
        "id": "V4Zc2MOM9zof"
      }
    },
    {
      "cell_type": "markdown",
      "source": [
        "\n",
        "*   Kullanıcı Tanımlı Fonksiyonlar (User Defined Function)\n",
        "\n",
        "\n",
        "\n"
      ],
      "metadata": {
        "id": "Uoht1BZ--lzP"
      }
    },
    {
      "cell_type": "code",
      "source": [
        "# dairenin alanını hesaplamak pi*r^2\n",
        "pi = 3.14\n",
        "daire_yaricapi = 3\n",
        "daire_alani = pi*(daire_yaricapi**2)\n",
        "print(daire_alani)"
      ],
      "metadata": {
        "colab": {
          "base_uri": "https://localhost:8080/"
        },
        "id": "nIyFrYXh93oz",
        "outputId": "b1dd564d-bdd0-4c42-ca38-05bdcd9998e8"
      },
      "execution_count": 13,
      "outputs": [
        {
          "output_type": "stream",
          "name": "stdout",
          "text": [
            "28.26\n"
          ]
        }
      ]
    },
    {
      "cell_type": "code",
      "source": [
        "def daireAlaniHesapla(daire_yaricapi = 5): # func ismi yazarken islevi belirtmek lazim\n",
        "  \"\"\"\n",
        "    Description: Bu fonksiyon daire alanini hesaplar.\n",
        "    input parameters: dairenin yaricapi (daire_yaricapi)\n",
        "    output: dairenin alani (daire_alani)\n",
        "  \"\"\"\n",
        "  PI = 3.14\n",
        "  daire_alani = PI*(daire_yaricapi**2)\n",
        "  print(f\"Daire Alani: {daire_alani}\")\n",
        "  return daire_alani"
      ],
      "metadata": {
        "id": "x4ZRWg4i_L4L"
      },
      "execution_count": 46,
      "outputs": []
    },
    {
      "cell_type": "code",
      "source": [
        "daireAlaniHesapla()"
      ],
      "metadata": {
        "colab": {
          "base_uri": "https://localhost:8080/"
        },
        "id": "pGo8or___lQ1",
        "outputId": "3e8932cd-cadd-4668-844f-fc510d13d0c7"
      },
      "execution_count": 30,
      "outputs": [
        {
          "output_type": "stream",
          "name": "stdout",
          "text": [
            "Daire Alani: 78.5\n"
          ]
        }
      ]
    },
    {
      "cell_type": "code",
      "source": [
        "user_input  = input(\"Bir daire yari capi girin: \")\n",
        "print(f\"girilen deger: {user_input} ve bu degerin type: {type(user_input)}\")\n",
        "user_input_int = int(user_input)\n",
        "print(f\"{type(user_input_int)}\")\n",
        "daireAlaniHesapla(user_input_int)"
      ],
      "metadata": {
        "colab": {
          "base_uri": "https://localhost:8080/"
        },
        "id": "DMN-qFAPG71L",
        "outputId": "64316227-3de6-4696-9b01-eb26b2658a2d"
      },
      "execution_count": 37,
      "outputs": [
        {
          "output_type": "stream",
          "name": "stdout",
          "text": [
            "Bir daire yari capi girin: 10\n",
            "girilen deger: 10 ve bu degerin type: <class 'str'>\n",
            "<class 'int'>\n",
            "Daire Alani: 314.0\n"
          ]
        }
      ]
    },
    {
      "cell_type": "code",
      "source": [
        "daire_alani_hesaplanan1 = daireAlaniHesapla(5)\n",
        "daire_alani_hesaplanan2 = daireAlaniHesapla(3)\n",
        "print(daire_alani_hesaplanan1 + daire_alani_hesaplanan2)"
      ],
      "metadata": {
        "colab": {
          "base_uri": "https://localhost:8080/"
        },
        "id": "34YHBW0gIcSk",
        "outputId": "4d1b74be-cb64-45ad-c56a-387b0751e204"
      },
      "execution_count": 41,
      "outputs": [
        {
          "output_type": "stream",
          "name": "stdout",
          "text": [
            "Daire Alani: 78.5\n",
            "Daire Alani: 28.26\n",
            "106.76\n"
          ]
        }
      ]
    },
    {
      "cell_type": "code",
      "source": [
        "# daire cevresi hesaplama: 2*pi*r\n",
        "def daireCevresiHesapla(r):\n",
        "  PI = 3.14\n",
        "  daire_cevresi = 2*PI*r\n",
        "  return daire_cevresi"
      ],
      "metadata": {
        "id": "CnQza9IFKPtq"
      },
      "execution_count": 47,
      "outputs": []
    },
    {
      "cell_type": "code",
      "source": [
        "daire_cevresi_hesaplanan = daireCevresiHesapla(5)\n",
        "print(f\"hesapladigimiz daire ccevresi: {daire_cevresi_hesaplanan}\")"
      ],
      "metadata": {
        "colab": {
          "base_uri": "https://localhost:8080/"
        },
        "id": "ow8UO3SUMptb",
        "outputId": "cee24c19-ebb1-41a4-9372-959358547757"
      },
      "execution_count": 49,
      "outputs": [
        {
          "output_type": "stream",
          "name": "stdout",
          "text": [
            "hesapladigimiz daire ccevresi: 31.400000000000002\n"
          ]
        }
      ]
    },
    {
      "cell_type": "code",
      "source": [],
      "metadata": {
        "id": "K1cSZcoIMtp6"
      },
      "execution_count": null,
      "outputs": []
    }
  ]
}